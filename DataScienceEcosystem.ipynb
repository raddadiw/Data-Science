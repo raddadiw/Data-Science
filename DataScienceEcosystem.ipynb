{
 "cells": [
  {
   "cell_type": "markdown",
   "id": "1c249aab-1410-4275-a32b-978418a863c5",
   "metadata": {},
   "source": [
    "# Data Science Tools and Ecosystem"
   ]
  },
  {
   "cell_type": "markdown",
   "id": "5981888d-1579-43a6-a747-4fb22d34733a",
   "metadata": {},
   "source": [
    "In this notebook, Data Science Tools and Ecosystem are summarized."
   ]
  },
  {
   "cell_type": "markdown",
   "id": "2ed7c546-5b8c-411e-baf2-8173fc7d4b47",
   "metadata": {},
   "source": [
    "* List popular languages for Data Science\n",
    "* list popular libraries\n",
    "* List popular tools"
   ]
  },
  {
   "cell_type": "markdown",
   "id": "f9c883a6-63e6-403e-af0d-ecc850842aac",
   "metadata": {},
   "source": [
    "Some of the popular languages that Data Scientists use are:\n",
    "\n",
    "1. Python\n",
    "2. R\n",
    "3. Scala \n",
    "4. Julia"
   ]
  },
  {
   "cell_type": "markdown",
   "id": "b42437b3-8e69-47cd-8d9e-4e48ff32da42",
   "metadata": {},
   "source": [
    "Some of the commonly used libraries used by Data Scientists include:\n",
    "1. NumPy\n",
    "2. Pandas\n",
    "3. Scipy\n",
    "4. Matplotlip"
   ]
  },
  {
   "cell_type": "markdown",
   "id": "87d1d917-f315-4596-b4e2-c12511f2a6cf",
   "metadata": {},
   "source": [
    "| Data Science Tools|\n",
    "|-------------------|\n",
    "| RStudio |\n",
    "| Jupyter Notebook |\n",
    "| Visual Studio Code |\n",
    "\n"
   ]
  },
  {
   "cell_type": "markdown",
   "id": "f4795587-084c-42c4-9b6f-e81388ffb76e",
   "metadata": {},
   "source": [
    "### Below are a few examples of evaluating arithmetic expressions in Python"
   ]
  },
  {
   "cell_type": "code",
   "execution_count": 4,
   "id": "4d60647c-c4d1-4fb8-ba1d-027b35ba16d5",
   "metadata": {
    "tags": []
   },
   "outputs": [
    {
     "data": {
      "text/plain": [
       "17"
      ]
     },
     "execution_count": 4,
     "metadata": {},
     "output_type": "execute_result"
    }
   ],
   "source": [
    "# This a simple arithmetic expression to multiply then add integers\n",
    "(3*4)+5"
   ]
  },
  {
   "cell_type": "code",
   "execution_count": 5,
   "id": "ddb1c8c7-c9ef-4e76-9846-42555f707614",
   "metadata": {
    "tags": []
   },
   "outputs": [
    {
     "data": {
      "text/plain": [
       "3.3333333333333335"
      ]
     },
     "execution_count": 5,
     "metadata": {},
     "output_type": "execute_result"
    }
   ],
   "source": [
    "#  This will convert 200 minutes to hours by diving by 60\n",
    "minutes = 200\n",
    "minutes / 60\n"
   ]
  },
  {
   "cell_type": "markdown",
   "id": "8b2d47d7-cb2f-4823-b23a-37680a79d8e0",
   "metadata": {},
   "source": [
    "## Author\n",
    "Wael Alraddadi\n"
   ]
  },
  {
   "cell_type": "code",
   "execution_count": null,
   "id": "ce92624c-1aff-4fd1-857d-064967dc3143",
   "metadata": {},
   "outputs": [],
   "source": []
  }
 ],
 "metadata": {
  "kernelspec": {
   "display_name": "Python",
   "language": "python",
   "name": "conda-env-python-py"
  },
  "language_info": {
   "codemirror_mode": {
    "name": "ipython",
    "version": 3
   },
   "file_extension": ".py",
   "mimetype": "text/x-python",
   "name": "python",
   "nbconvert_exporter": "python",
   "pygments_lexer": "ipython3",
   "version": "3.7.12"
  }
 },
 "nbformat": 4,
 "nbformat_minor": 5
}
